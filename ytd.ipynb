{
 "cells": [
  {
   "cell_type": "code",
   "execution_count": 9,
   "metadata": {},
   "outputs": [],
   "source": [
    "# %%\n",
    "import subprocess\n",
    "from pytube import YouTube\n",
    "import math\n",
    "import re\n",
    "import pathlib\n",
    "import os\n",
    "import ffmpeg\n",
    "import win32clipboard\n",
    "from pytube.cli import on_progress\n",
    "\n",
    "# %%\n",
    "\n",
    "\n",
    "def convert_size(size_bytes):\n",
    "   if size_bytes == 0:\n",
    "       return \"0B\"\n",
    "   size_name = (\"B\", \"KB\", \"MB\", \"GB\", \"TB\", \"PB\", \"EB\", \"ZB\", \"YB\")\n",
    "   i = int(math.floor(math.log(size_bytes, 1024)))\n",
    "   p = math.pow(1024, i)\n",
    "   s = round(size_bytes / p, 2)\n",
    "   return \"%s %s\" % (s, size_name[i])\n",
    "# %%\n",
    "yt = YouTube('https://www.youtube.com/watch?v=Nl_eJ-zdLrA', on_progress_callback=on_progress)\n",
    "# %%\n",
    "streams=yt.streams.filter(adaptive=True)\n",
    "keys=['en','a.en']\n",
    "sub=''\n",
    "for k in keys:\n",
    "    if k in yt.captions.keys():\n",
    "        sub=yt.captions[k].generate_srt_captions()\n",
    "\n",
    "\n",
    "    "
   ]
  },
  {
   "cell_type": "code",
   "execution_count": 10,
   "metadata": {},
   "outputs": [
    {
     "data": {
      "text/plain": [
       "\"1\\n02:25:20,000 --> 03:21:20,000\\nwelcome to papa mattress liquidators how\\n\\n3\\n02:55:59,000 --> 04:06:39,000\\ncan i help you today\\n\\n5\\n03:21:20,000 --> 04:26:40,000\\ni need to buy a new bed okay yeah good\\n\\n7\\n04:06:39,000 --> 04:38:40,000\\ngood you came to the right place i'd be\\n\\n9\\n04:26:40,000 --> 05:28:00,000\\nmore than happy to help\\n\\n11\\n04:38:40,000 --> 05:34:40,000\\nyou uh what size you need a full queen\\n\\n13\\n05:28:00,000 --> 06:06:40,000\\nking\\n\\n15\\n05:34:40,000 --> 06:49:20,000\\nqueen queen oh okay well we got a big\\n\\n17\\n06:06:40,000 --> 07:37:19,000\\ncity so you know\\n\\n19\\n06:49:20,000 --> 08:26:40,000\\nit needs to be sturdy all right\\n\\n21\\n07:37:19,000 --> 09:33:19,000\\ngets kind of crazy in my room\\n\\n23\\n08:26:40,000 --> 10:16:00,000\\noh okay i got you brother\\n\\n25\\n09:33:19,000 --> 10:16:00,000\\ni got you\\n\\n27\\n10:57:20,000 --> 12:18:40,000\\nwell it's a posturepedic mattress we got\\n\\n29\\n11:37:20,000 --> 13:22:40,000\\nright here this is extremely comfortable\\n\\n31\\n12:18:40,000 --> 14:13:20,000\\nand uh durable do you mind if i try it\\n\\n33\\n13:22:40,000 --> 14:13:20,000\\nno not at all go ahead\\n\\n35\\n15:03:59,000 --> 16:14:40,000\\ni'll also mention there's a 100\\n\\n37\\n15:39:59,000 --> 16:57:19,000\\nmoney-back guarantee on that yeah yeah\\n\\n39\\n16:14:40,000 --> 17:06:40,000\\nyeah yeah who got that good d i got that\\n\\n41\\n16:57:19,000 --> 17:53:19,000\\ngood d\\n\\n43\\n17:06:40,000 --> 17:53:19,000\\nyeah yeah\\n\\n45\\n18:11:59,000 --> 19:40:40,000\\nno it's too hard do you have anything\\n\\n47\\n19:09:20,000 --> 20:50:40,000\\nsofter\\n\\n49\\n19:40:40,000 --> 20:50:40,000\\num of course\\n\\n51\\n21:09:19,000 --> 23:08:00,000\\nso this uh this one of our um\\n\\n53\\n22:02:40,000 --> 00:02:40,000\\nnatural latex mattresses it's uh on sale\\n\\n55\\n23:08:00,000 --> 01:30:40,000\\ntoo today at uh 1200\\n\\n57\\n00:02:40,000 --> 01:30:40,000\\ncan i try it sure\\n\\n59\\n02:09:19,000 --> 04:14:40,000\\nwho got that good d i got that good d\\n\\n61\\n03:12:00,000 --> 04:59:59,000\\nwho got that good d i got that good d\\n\\n63\\n04:14:40,000 --> 05:32:00,000\\nit seems a little pricey okay no it's a\\n\\n65\\n04:59:59,000 --> 06:41:19,000\\nlittle pricey i ain't gonna lie to you\\n\\n67\\n05:32:00,000 --> 07:26:40,000\\nbut uh no problem we got other choices\\n\\n69\\n06:41:19,000 --> 07:45:20,000\\nuh this this is a great memory foam\\n\\n71\\n07:26:40,000 --> 08:29:20,000\\nmattress\\n\\n73\\n07:45:20,000 --> 09:02:40,000\\nright here it's a little cheaper and can\\n\\n75\\n08:29:20,000 --> 09:46:40,000\\ni try it it out\\n\\n77\\n09:02:40,000 --> 10:09:20,000\\nright right yeah i mean of course you\\n\\n79\\n09:46:40,000 --> 11:00:00,000\\nwant to try it\\n\\n81\\n10:09:20,000 --> 11:48:00,000\\nyou know how it goes yeah coming up on\\n\\n83\\n11:00:00,000 --> 11:48:00,000\\nthem late nights\\n\\n85\\n12:02:39,000 --> 13:53:20,000\\nyes see poppy see poppy see poppy\\n\\n87\\n12:55:59,000 --> 15:57:20,000\\nyeah right yeah\\n\\n89\\n13:53:20,000 --> 15:57:20,000\\nman um sex happens\\n\\n91\\n17:29:20,000 --> 20:31:59,000\\noh here it comes here it goes\\n\\n93\\n19:49:20,000 --> 23:44:00,000\\nyup that's the one i'll take it okay let\\n\\n95\\n20:31:59,000 --> 23:44:00,000\\nme bring you up\\n\\n97\\n02:47:20,000 --> 03:37:20,000\\nagain\""
      ]
     },
     "execution_count": 10,
     "metadata": {},
     "output_type": "execute_result"
    }
   ],
   "source": [
    "sub"
   ]
  },
  {
   "cell_type": "code",
   "execution_count": null,
   "metadata": {},
   "outputs": [],
   "source": []
  }
 ],
 "metadata": {
  "interpreter": {
   "hash": "44f587ad27c9c33235f69cd7082f684c5c80fc9b0fb7f82fc06c5632d2d70575"
  },
  "kernelspec": {
   "display_name": "Python 3.8.8 ('base')",
   "language": "python",
   "name": "python3"
  },
  "language_info": {
   "codemirror_mode": {
    "name": "ipython",
    "version": 3
   },
   "file_extension": ".py",
   "mimetype": "text/x-python",
   "name": "python",
   "nbconvert_exporter": "python",
   "pygments_lexer": "ipython3",
   "version": "3.9.7"
  },
  "orig_nbformat": 4
 },
 "nbformat": 4,
 "nbformat_minor": 2
}
